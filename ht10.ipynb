{
 "cells": [
  {
   "cell_type": "code",
   "execution_count": 5,
   "metadata": {},
   "outputs": [
    {
     "name": "stdout",
     "output_type": "stream",
     "text": [
      "Введите первое число:1\n",
      "Введите второе число2\n",
      "Сумма равна 3\n",
      "Разница равна 1\n",
      "Произведение равно 2\n",
      "Частное равно 0.5\n",
      "Логорифм равен 0.0\n"
     ]
    }
   ],
   "source": [
    "a = input (\"Введите первое число:\")\n",
    "b = input (\"Введите второе число\")\n",
    "a = int(a)\n",
    "b = int(b)\n",
    "import math\n",
    "print(\"Сумма равна\", a+b)\n",
    "print(\"Разница равна\", b-a)\n",
    "print(\"Произведение равно\", a*b)\n",
    "print(\"Частное равно\", a/b)\n",
    "print(\"Логорифм равен\", math.log10(a))\n"
   ]
  },
  {
   "cell_type": "code",
   "execution_count": null,
   "metadata": {},
   "outputs": [],
   "source": []
  },
  {
   "cell_type": "code",
   "execution_count": null,
   "metadata": {},
   "outputs": [],
   "source": []
  },
  {
   "cell_type": "code",
   "execution_count": null,
   "metadata": {},
   "outputs": [],
   "source": []
  }
 ],
 "metadata": {
  "kernelspec": {
   "display_name": "Python 3",
   "language": "python",
   "name": "python3"
  },
  "language_info": {
   "codemirror_mode": {
    "name": "ipython",
    "version": 3
   },
   "file_extension": ".py",
   "mimetype": "text/x-python",
   "name": "python",
   "nbconvert_exporter": "python",
   "pygments_lexer": "ipython3",
   "version": "3.8.3"
  }
 },
 "nbformat": 4,
 "nbformat_minor": 4
}
