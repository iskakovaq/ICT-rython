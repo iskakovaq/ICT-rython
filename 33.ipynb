{
 "cells": [
  {
   "cell_type": "code",
   "execution_count": 1,
   "metadata": {},
   "outputs": [
    {
     "name": "stdout",
     "output_type": "stream",
     "text": [
      "5\n",
      "Regular price: 17.45\n",
      "Discount: 10.47\n",
      "Total:  6.98\n"
     ]
    }
   ],
   "source": [
    "num_loaves = int(input())\n",
    "regular_price = num_loaves*3.49\n",
    "discount = regular_price*0.6\n",
    "total = regular_price - discount\n",
    "print(\"Regular price: %5.2f\"%regular_price)\n",
    "print(\"Discount: %5.2f\" %discount)\n",
    "print(\"Total: %5.2f\" %total)"
   ]
  },
  {
   "cell_type": "code",
   "execution_count": null,
   "metadata": {},
   "outputs": [],
   "source": []
  }
 ],
 "metadata": {
  "kernelspec": {
   "display_name": "Python 3",
   "language": "python",
   "name": "python3"
  },
  "language_info": {
   "codemirror_mode": {
    "name": "ipython",
    "version": 3
   },
   "file_extension": ".py",
   "mimetype": "text/x-python",
   "name": "python",
   "nbconvert_exporter": "python",
   "pygments_lexer": "ipython3",
   "version": "3.8.3"
  }
 },
 "nbformat": 4,
 "nbformat_minor": 4
}
