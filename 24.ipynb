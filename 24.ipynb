{
 "cells": [
  {
   "cell_type": "code",
   "execution_count": 1,
   "metadata": {},
   "outputs": [
    {
     "name": "stdout",
     "output_type": "stream",
     "text": [
      "Enter a number of days: 1\n",
      "Enter a number of hours: 3\n",
      "Enter a number of minutes: 30\n",
      "Enter a number of seconds: 15\n",
      "99015\n"
     ]
    }
   ],
   "source": [
    "days = int(input(\"Enter a number of days: \"))\n",
    "hours = int(input(\"Enter a number of hours: \"))\n",
    "minutes = int(input(\"Enter a number of minutes: \"))\n",
    "seconds = int(input(\"Enter a number of seconds: \"))\n",
    "SECONDS_IN_DAY = 86400\n",
    "SECONDS_IN_HOUR = 3600\n",
    "SECONDS_IN_MINUTE = 60\n",
    "total_seconds = days*SECONDS_IN_DAY + hours*SECONDS_IN_HOUR + minutes*SECONDS_IN_MINUTE + seconds\n",
    "print(total_seconds)\n"
   ]
  },
  {
   "cell_type": "code",
   "execution_count": null,
   "metadata": {},
   "outputs": [],
   "source": []
  }
 ],
 "metadata": {
  "kernelspec": {
   "display_name": "Python 3",
   "language": "python",
   "name": "python3"
  },
  "language_info": {
   "codemirror_mode": {
    "name": "ipython",
    "version": 3
   },
   "file_extension": ".py",
   "mimetype": "text/x-python",
   "name": "python",
   "nbconvert_exporter": "python",
   "pygments_lexer": "ipython3",
   "version": "3.8.3"
  }
 },
 "nbformat": 4,
 "nbformat_minor": 4
}
