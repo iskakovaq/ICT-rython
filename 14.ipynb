{
 "cells": [
  {
   "cell_type": "code",
   "execution_count": 1,
   "metadata": {},
   "outputs": [
    {
     "name": "stdout",
     "output_type": "stream",
     "text": [
      "Person's feet is: 10\n",
      "Person's inches is: 20\n",
      "Person's height in cm is: 355.6\n"
     ]
    }
   ],
   "source": [
    "feet = int(input(\"Person's feet is: \"))\n",
    "inches = int(input(\"Person's inches is: \"))\n",
    "cms = (feet * 12 + inches) * 2.54\n",
    "print(\"Person's height in cm is: {0}\".format(cms))\n"
   ]
  },
  {
   "cell_type": "code",
   "execution_count": null,
   "metadata": {},
   "outputs": [],
   "source": []
  }
 ],
 "metadata": {
  "kernelspec": {
   "display_name": "Python 3",
   "language": "python",
   "name": "python3"
  },
  "language_info": {
   "codemirror_mode": {
    "name": "ipython",
    "version": 3
   },
   "file_extension": ".py",
   "mimetype": "text/x-python",
   "name": "python",
   "nbconvert_exporter": "python",
   "pygments_lexer": "ipython3",
   "version": "3.8.3"
  }
 },
 "nbformat": 4,
 "nbformat_minor": 4
}
