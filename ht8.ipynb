{
 "cells": [
  {
   "cell_type": "code",
   "execution_count": 1,
   "metadata": {},
   "outputs": [
    {
     "name": "stdout",
     "output_type": "stream",
     "text": [
      "Веедите количество виджетов в заказе: 445\n",
      "Веедите количество вещей в заказе: 43\n",
      "Общий вес заказа =  38.191 Кг\n"
     ]
    }
   ],
   "source": [
    "a = input(\"Веедите количество виджетов в заказе: \")\n",
    "b = input(\"Веедите количество вещей в заказе: \")\n",
    "a = int(a)\n",
    "b = int(b)\n",
    "sum = ((a*75)+(b*112))\n",
    "print(\"Общий вес заказа = \",sum/1000, \"Кг\")"
   ]
  },
  {
   "cell_type": "code",
   "execution_count": null,
   "metadata": {},
   "outputs": [],
   "source": []
  }
 ],
 "metadata": {
  "kernelspec": {
   "display_name": "Python 3",
   "language": "python",
   "name": "python3"
  },
  "language_info": {
   "codemirror_mode": {
    "name": "ipython",
    "version": 3
   },
   "file_extension": ".py",
   "mimetype": "text/x-python",
   "name": "python",
   "nbconvert_exporter": "python",
   "pygments_lexer": "ipython3",
   "version": "3.8.3"
  }
 },
 "nbformat": 4,
 "nbformat_minor": 4
}
