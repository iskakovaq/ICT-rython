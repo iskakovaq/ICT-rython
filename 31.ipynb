{
 "cells": [
  {
   "cell_type": "code",
   "execution_count": 1,
   "metadata": {},
   "outputs": [
    {
     "name": "stdout",
     "output_type": "stream",
     "text": [
      "n10\n",
      "s 1\n"
     ]
    }
   ],
   "source": [
    "n=input(\"n\");\n",
    "n=int(n);\n",
    "d1=n%10;\n",
    "d2=n%100//10;\n",
    "d3=n%1000//100;\n",
    "d4=n//1000;\n",
    "print(\"s\",d1+d2+d3+d4);"
   ]
  },
  {
   "cell_type": "code",
   "execution_count": null,
   "metadata": {},
   "outputs": [],
   "source": []
  }
 ],
 "metadata": {
  "kernelspec": {
   "display_name": "Python 3",
   "language": "python",
   "name": "python3"
  },
  "language_info": {
   "codemirror_mode": {
    "name": "ipython",
    "version": 3
   },
   "file_extension": ".py",
   "mimetype": "text/x-python",
   "name": "python",
   "nbconvert_exporter": "python",
   "pygments_lexer": "ipython3",
   "version": "3.8.3"
  }
 },
 "nbformat": 4,
 "nbformat_minor": 4
}
