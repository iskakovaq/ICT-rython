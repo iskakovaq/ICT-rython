{
 "cells": [
  {
   "cell_type": "code",
   "execution_count": 1,
   "metadata": {},
   "outputs": [
    {
     "name": "stdout",
     "output_type": "stream",
     "text": [
      "Введите длину: 5.40\n",
      "Введите ширину: 4.25\n",
      "Площадь поля равна= 0.0005268595041322315 акров\n"
     ]
    }
   ],
   "source": [
    "w=input(\"Введите длину: \")\n",
    "l=input(\"Введите ширину: \")\n",
    "w = float(w)\n",
    "l = float(l)\n",
    "sum = w*l\n",
    "akr= sum/43560\n",
    "print (\"Площадь поля равна=\", akr, \"акров\")"
   ]
  },
  {
   "cell_type": "code",
   "execution_count": null,
   "metadata": {},
   "outputs": [],
   "source": []
  }
 ],
 "metadata": {
  "kernelspec": {
   "display_name": "Python 3",
   "language": "python",
   "name": "python3"
  },
  "language_info": {
   "codemirror_mode": {
    "name": "ipython",
    "version": 3
   },
   "file_extension": ".py",
   "mimetype": "text/x-python",
   "name": "python",
   "nbconvert_exporter": "python",
   "pygments_lexer": "ipython3",
   "version": "3.8.3"
  }
 },
 "nbformat": 4,
 "nbformat_minor": 4
}
