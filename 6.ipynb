{
 "cells": [
  {
   "cell_type": "code",
   "execution_count": 1,
   "metadata": {},
   "outputs": [
    {
     "name": "stdout",
     "output_type": "stream",
     "text": [
      "Enter cost 1220\n",
      "lunch      ... 1220.0\n",
      "tax is 12% ... 146.4\n",
      "tip is 18% ... 219.6\n",
      "Overall    ... 1586.0\n"
     ]
    }
   ],
   "source": [
    "price = float(input(\"Enter cost \"))\n",
    "tax = price * 0.12\n",
    "tip = price * 0.18\n",
    "print(\"lunch      ...\", price)\n",
    "print(\"tax is 12% ...\", tax)\n",
    "print(\"tip is 18% ...\", tip)\n",
    "print(\"Overall    ...\", price + tax + tip)"
   ]
  },
  {
   "cell_type": "code",
   "execution_count": null,
   "metadata": {},
   "outputs": [],
   "source": []
  }
 ],
 "metadata": {
  "kernelspec": {
   "display_name": "Python 3",
   "language": "python",
   "name": "python3"
  },
  "language_info": {
   "codemirror_mode": {
    "name": "ipython",
    "version": 3
   },
   "file_extension": ".py",
   "mimetype": "text/x-python",
   "name": "python",
   "nbconvert_exporter": "python",
   "pygments_lexer": "ipython3",
   "version": "3.8.3"
  }
 },
 "nbformat": 4,
 "nbformat_minor": 4
}
