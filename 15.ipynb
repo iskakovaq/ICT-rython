{
 "cells": [
  {
   "cell_type": "code",
   "execution_count": 1,
   "metadata": {},
   "outputs": [
    {
     "name": "stdout",
     "output_type": "stream",
     "text": [
      "measurement in foot is: 10\n",
      "measurement in inches is: 0.8333333333333334\n",
      "in yards is: 30.0\n",
      "in miles is: 0.001893939393939394\n"
     ]
    }
   ],
   "source": [
    "measure = float(input(\"measurement in foot is: \"))\n",
    "inches = measure / 12\n",
    "yards = 3 * measure\n",
    "miles = measure/5280\n",
    "print(\"measurement in inches is: {0}\\nin yards is: {1}\\nin miles is: {2}\".format(inches, yards, miles))"
   ]
  },
  {
   "cell_type": "code",
   "execution_count": null,
   "metadata": {},
   "outputs": [],
   "source": []
  },
  {
   "cell_type": "code",
   "execution_count": null,
   "metadata": {},
   "outputs": [],
   "source": []
  }
 ],
 "metadata": {
  "kernelspec": {
   "display_name": "Python 3",
   "language": "python",
   "name": "python3"
  },
  "language_info": {
   "codemirror_mode": {
    "name": "ipython",
    "version": 3
   },
   "file_extension": ".py",
   "mimetype": "text/x-python",
   "name": "python",
   "nbconvert_exporter": "python",
   "pygments_lexer": "ipython3",
   "version": "3.8.3"
  }
 },
 "nbformat": 4,
 "nbformat_minor": 4
}
