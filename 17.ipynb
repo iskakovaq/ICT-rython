{
 "cells": [
  {
   "cell_type": "code",
   "execution_count": 1,
   "metadata": {},
   "outputs": [
    {
     "name": "stdout",
     "output_type": "stream",
     "text": [
      "mass in g is: 10\n",
      "temperature in С is: 20\n",
      "The Heat is = 837.2\n",
      "Total cost is = 0.00\n"
     ]
    }
   ],
   "source": [
    "с = 4.186\n",
    "m = float(input(\"mass in g is: \"))\n",
    "t = float(input(\"temperature in С is: \"))\n",
    "q = с*m*t\n",
    "print(\"The Heat is = {0}\".format(q))\n",
    "kw_per_h = q/3600000\n",
    "cost = kw_per_h*8.9\n",
    "print(\"Total cost is = {0}\".format(format(cost, '.2f')))"
   ]
  },
  {
   "cell_type": "code",
   "execution_count": null,
   "metadata": {},
   "outputs": [],
   "source": []
  },
  {
   "cell_type": "code",
   "execution_count": null,
   "metadata": {},
   "outputs": [],
   "source": []
  }
 ],
 "metadata": {
  "kernelspec": {
   "display_name": "Python 3",
   "language": "python",
   "name": "python3"
  },
  "language_info": {
   "codemirror_mode": {
    "name": "ipython",
    "version": 3
   },
   "file_extension": ".py",
   "mimetype": "text/x-python",
   "name": "python",
   "nbconvert_exporter": "python",
   "pygments_lexer": "ipython3",
   "version": "3.8.3"
  }
 },
 "nbformat": 4,
 "nbformat_minor": 4
}
