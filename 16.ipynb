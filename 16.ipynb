{
 "cells": [
  {
   "cell_type": "code",
   "execution_count": 1,
   "metadata": {},
   "outputs": [
    {
     "name": "stdout",
     "output_type": "stream",
     "text": [
      "The radius of the circle is: 10\n",
      "With radius = 10.0 of the circle\n",
      "Area = 314.0\n",
      "Volume = 4186.666666666666\n"
     ]
    }
   ],
   "source": [
    "radius = float(input(\"The radius of the circle is: \"))\n",
    "area = 3.14 * (radius**2)\n",
    "volume = (4/3)*area*radius\n",
    "print(\"With radius = {0} of the circle\\nArea = {1}\\nVolume = {2}\".format(radius, area, volume))\n"
   ]
  },
  {
   "cell_type": "code",
   "execution_count": null,
   "metadata": {},
   "outputs": [],
   "source": []
  }
 ],
 "metadata": {
  "kernelspec": {
   "display_name": "Python 3",
   "language": "python",
   "name": "python3"
  },
  "language_info": {
   "codemirror_mode": {
    "name": "ipython",
    "version": 3
   },
   "file_extension": ".py",
   "mimetype": "text/x-python",
   "name": "python",
   "nbconvert_exporter": "python",
   "pygments_lexer": "ipython3",
   "version": "3.8.3"
  }
 },
 "nbformat": 4,
 "nbformat_minor": 4
}
