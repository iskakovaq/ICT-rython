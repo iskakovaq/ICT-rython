{
 "cells": [
  {
   "cell_type": "code",
   "execution_count": 1,
   "metadata": {},
   "outputs": [
    {
     "name": "stdout",
     "output_type": "stream",
     "text": [
      "v10\n",
      "p6\n",
      "t5\n",
      "n:99.72\n"
     ]
    }
   ],
   "source": [
    "v=input(\"v\");\n",
    "p=input(\"p\");\n",
    "t=input(\"t\");\n",
    "r=8.31;\n",
    "v=float(v);\n",
    "p=float(p);\n",
    "t=float(t);\n",
    "n = p*v/t*r;\n",
    "print(\"n:%.2f\" %n);"
   ]
  }
 ],
 "metadata": {
  "kernelspec": {
   "display_name": "Python 3",
   "language": "python",
   "name": "python3"
  },
  "language_info": {
   "codemirror_mode": {
    "name": "ipython",
    "version": 3
   },
   "file_extension": ".py",
   "mimetype": "text/x-python",
   "name": "python",
   "nbconvert_exporter": "python",
   "pygments_lexer": "ipython3",
   "version": "3.8.3"
  }
 },
 "nbformat": 4,
 "nbformat_minor": 4
}
