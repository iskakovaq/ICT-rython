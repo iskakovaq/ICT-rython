{
 "cells": [
  {
   "cell_type": "code",
   "execution_count": 1,
   "metadata": {},
   "outputs": [
    {
     "name": "stdout",
     "output_type": "stream",
     "text": [
      "s1 10\n",
      "s2 5\n",
      "s3 20\n",
      "-4101.5625\n"
     ]
    }
   ],
   "source": [
    "s1=input(\"s1 \");\n",
    "s2=input(\"s2 \");\n",
    "s3=input(\"s3 \");\n",
    "s1=float(s1);\n",
    "s2=float(s2);\n",
    "s3=float(s3);\n",
    "s=(s1+s2+s3)/2;\n",
    "A=s*(s-s1)*(s-s2)*(s-s3);\n",
    "print(A);"
   ]
  },
  {
   "cell_type": "code",
   "execution_count": null,
   "metadata": {},
   "outputs": [],
   "source": []
  }
 ],
 "metadata": {
  "kernelspec": {
   "display_name": "Python 3",
   "language": "python",
   "name": "python3"
  },
  "language_info": {
   "codemirror_mode": {
    "name": "ipython",
    "version": 3
   },
   "file_extension": ".py",
   "mimetype": "text/x-python",
   "name": "python",
   "nbconvert_exporter": "python",
   "pygments_lexer": "ipython3",
   "version": "3.8.3"
  }
 },
 "nbformat": 4,
 "nbformat_minor": 4
}
