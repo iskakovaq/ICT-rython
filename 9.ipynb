{
 "cells": [
  {
   "cell_type": "code",
   "execution_count": 2,
   "metadata": {},
   "outputs": [
    {
     "name": "stdout",
     "output_type": "stream",
     "text": [
      "1\n",
      "2\n",
      "3\n",
      "3\n",
      "3\n",
      "3\n",
      "the first box is smaller than the second one\n"
     ]
    }
   ],
   "source": [
    "a1 = int(input())\n",
    "b1 = int(input())\n",
    "c1 = int(input())\n",
    "a2 = int(input())\n",
    "b2 = int(input())\n",
    "c2 = int(input())\n",
    "if a1 == a2 and b1 == b2 and c1 == c2:\n",
    "    print(\"boxes are equal\")\n",
    "elif a1 <= a2 and b1 <= b2 and c1 <= c2:\n",
    "    print(\"the first box is smaller than the second one\")\n",
    "elif a1 >= a2 and b1 >= b2 and c1 >= c2:\n",
    "    print(\"the first box is larger than the second one\")\n",
    "else:\n",
    "    print(\"incomparable\")"
   ]
  }
 ],
 "metadata": {
  "kernelspec": {
   "display_name": "Python 3",
   "language": "python",
   "name": "python3"
  },
  "language_info": {
   "codemirror_mode": {
    "name": "ipython",
    "version": 3
   },
   "file_extension": ".py",
   "mimetype": "text/x-python",
   "name": "python",
   "nbconvert_exporter": "python",
   "pygments_lexer": "ipython3",
   "version": "3.8.3"
  }
 },
 "nbformat": 4,
 "nbformat_minor": 4
}
