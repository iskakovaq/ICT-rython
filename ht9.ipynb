{
 "cells": [
  {
   "cell_type": "code",
   "execution_count": 1,
   "metadata": {},
   "outputs": [
    {
     "name": "stdout",
     "output_type": "stream",
     "text": [
      "Веедите сумму внесенной на счет пользователя: 344\n",
      "Сумма через 1 год = 0.45 тг\n",
      "Сумма через 2 год = 0.91 тг\n",
      "Сумма через 3 год = 1.36 тг\n"
     ]
    }
   ],
   "source": [
    "a = input(\"Веедите сумму внесенной на счет пользователя: \")\n",
    "a = int(a)\n",
    "sum1 = (a*4*12/365)/100\n",
    "sum2 = ((sum1+a)*4*24/365)/100\n",
    "sum3 = ((sum2+a)*4*36/365)/100\n",
    "print(\"Сумма через 1 год = {:.2f}\".format(sum1), \"тг\")\n",
    "print(\"Сумма через 2 год = {:.2f}\".format(sum2), \"тг\")\n",
    "print(\"Сумма через 3 год = {:.2f}\".format(sum3), \"тг\")\n",
    "\n",
    "\n"
   ]
  },
  {
   "cell_type": "code",
   "execution_count": null,
   "metadata": {},
   "outputs": [],
   "source": []
  }
 ],
 "metadata": {
  "kernelspec": {
   "display_name": "Python 3",
   "language": "python",
   "name": "python3"
  },
  "language_info": {
   "codemirror_mode": {
    "name": "ipython",
    "version": 3
   },
   "file_extension": ".py",
   "mimetype": "text/x-python",
   "name": "python",
   "nbconvert_exporter": "python",
   "pygments_lexer": "ipython3",
   "version": "3.8.3"
  }
 },
 "nbformat": 4,
 "nbformat_minor": 4
}
