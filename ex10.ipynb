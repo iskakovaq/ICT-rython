{
 "cells": [
  {
   "cell_type": "code",
   "execution_count": null,
   "metadata": {},
   "outputs": [],
   "source": [
    " import math\n",
    "    a = int(input(\"First number is: \"))\n",
    "    b = int(input(\"Second number is: \"))\n",
    "    print(\"+ \",a+b)\n",
    "    print(\"- \",a-b)\n",
    "    print(\"* \", a*b)\n",
    "    print(\"// \", a // b)\n",
    "    print(\"% \", a%b)\n",
    "    print(\"log10(a) \", math.log10(a))\n",
    " print(\"string \", str(a)+str(b))"
   ]
  }
 ],
 "metadata": {
  "kernelspec": {
   "display_name": "Python 3",
   "language": "python",
   "name": "python3"
  },
  "language_info": {
   "codemirror_mode": {
    "name": "ipython",
    "version": 3
   },
   "file_extension": ".py",
   "mimetype": "text/x-python",
   "name": "python",
   "nbconvert_exporter": "python",
   "pygments_lexer": "ipython3",
   "version": "3.8.3"
  }
 },
 "nbformat": 4,
 "nbformat_minor": 4
}
