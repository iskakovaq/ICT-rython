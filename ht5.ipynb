{
 "cells": [
  {
   "cell_type": "code",
   "execution_count": 10,
   "metadata": {},
   "outputs": [
    {
     "name": "stdout",
     "output_type": "stream",
     "text": [
      "Введите количество литровых бутылок20\n",
      "Введите количество бутылок более литра23\n",
      "Возмещение = 7.75 $\n"
     ]
    }
   ],
   "source": [
    "a = input(\"Введите количество литровых бутылок\")\n",
    "b = input(\"Введите количество бутылок более литра\")\n",
    "a = int(a)\n",
    "b = int(b)\n",
    "sum = a*0.10+b*0.25\n",
    "print (\"Возмещение = {:.2f}\".format(sum), \"$\")"
   ]
  },
  {
   "cell_type": "code",
   "execution_count": null,
   "metadata": {},
   "outputs": [],
   "source": []
  },
  {
   "cell_type": "code",
   "execution_count": null,
   "metadata": {},
   "outputs": [],
   "source": []
  }
 ],
 "metadata": {
  "kernelspec": {
   "display_name": "Python 3",
   "language": "python",
   "name": "python3"
  },
  "language_info": {
   "codemirror_mode": {
    "name": "ipython",
    "version": 3
   },
   "file_extension": ".py",
   "mimetype": "text/x-python",
   "name": "python",
   "nbconvert_exporter": "python",
   "pygments_lexer": "ipython3",
   "version": "3.8.3"
  }
 },
 "nbformat": 4,
 "nbformat_minor": 4
}
