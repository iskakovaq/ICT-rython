{
 "cells": [
  {
   "cell_type": "code",
   "execution_count": null,
   "metadata": {},
   "outputs": [],
   "source": [
    "penny = 1\n",
    "nickel = 5\n",
    "dime = 10\n",
    "quarter = 25\n",
    "loonies = 14\n",
    "toonies = 20\n",
    "pennys1 = 0\n",
    "dimes1 = 0\n",
    "nickels1 = 0\n",
    "quarter1 = 0\n",
    "loonies1 = 0\n",
    "toonies1 = 0\n",
    "cents = int(input(\"Enter an amount of money you have in cents:\"))\n",
    "if cents >= 20:\n",
    "     toonies1 = cents / toonies\n",
    "        cents % toonies\n",
    "if cents >= 14:\n",
    "     loonies1 = cents / loonies\n",
    "        cents % loonies\n",
    "if cents >= 25:\n",
    "     quarter1 = cents / quarter\n",
    "        cents % quarter\n",
    "if cents >= 10:\n",
    "     dimes1 = cents / dimes\n",
    "        cents % dimes\n",
    "if cents >= 5:\n",
    "     nickel1 = cents / nickel\n",
    "if cents >= 1:\n",
    "     penny1 = cents / penny\n",
    "        cents % penny\n",
    "print(\"The coins are: toonies\", toonies, \"loonies\", loonies, \"quarters\", quarter, \"dime\", dime, \"nickel\", nickel, \"penny\", penny)"
   ]
  },
  {
   "cell_type": "code",
   "execution_count": null,
   "metadata": {},
   "outputs": [],
   "source": []
  },
  {
   "cell_type": "code",
   "execution_count": null,
   "metadata": {},
   "outputs": [],
   "source": []
  }
 ],
 "metadata": {
  "kernelspec": {
   "display_name": "Python 3",
   "language": "python",
   "name": "python3"
  },
  "language_info": {
   "codemirror_mode": {
    "name": "ipython",
    "version": 3
   },
   "file_extension": ".py",
   "mimetype": "text/x-python",
   "name": "python",
   "nbconvert_exporter": "python",
   "pygments_lexer": "ipython3",
   "version": "3.8.3"
  }
 },
 "nbformat": 4,
 "nbformat_minor": 4
}
