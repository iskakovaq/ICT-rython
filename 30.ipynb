{
 "cells": [
  {
   "cell_type": "code",
   "execution_count": 1,
   "metadata": {},
   "outputs": [
    {
     "name": "stdout",
     "output_type": "stream",
     "text": [
      "Input pressure in kPa: 50\n",
      "The pressure in pounds per square inch: 7.25 psi\n",
      "The pressure in millimeter of mercury: 375.03 mmHg\n",
      "Atmosphere pressure: 0.49 atm\n"
     ]
    }
   ],
   "source": [
    "kpa = float(input(\"Input pressure in kPa: \"))\n",
    "psi=kpa/6.894757\n",
    "mmhg = kpa*760/101.325\n",
    "atm = kpa/101.325\n",
    "print(\"The pressure in pounds per square inch: %.2f psi\" %psi)\n",
    "print(\"The pressure in millimeter of mercury: %.2f mmHg\" %mmhg)\n",
    "print(\"Atmosphere pressure: %.2f atm\" %atm)\n"
   ]
  },
  {
   "cell_type": "code",
   "execution_count": null,
   "metadata": {},
   "outputs": [],
   "source": []
  }
 ],
 "metadata": {
  "kernelspec": {
   "display_name": "Python 3",
   "language": "python",
   "name": "python3"
  },
  "language_info": {
   "codemirror_mode": {
    "name": "ipython",
    "version": 3
   },
   "file_extension": ".py",
   "mimetype": "text/x-python",
   "name": "python",
   "nbconvert_exporter": "python",
   "pygments_lexer": "ipython3",
   "version": "3.8.3"
  }
 },
 "nbformat": 4,
 "nbformat_minor": 4
}
