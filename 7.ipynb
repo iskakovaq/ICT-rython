{
 "cells": [
  {
   "cell_type": "code",
   "execution_count": 1,
   "metadata": {},
   "outputs": [
    {
     "name": "stdout",
     "output_type": "stream",
     "text": [
      "23\n",
      "52\n",
      "8\n",
      "43\n",
      "8\n"
     ]
    }
   ],
   "source": [
    "N = int(input())\n",
    "M = int(input())\n",
    "x = int(input())\n",
    "y = int(input())\n",
    "mmax = max(N, M)\n",
    "mmin = min(N, M)\n",
    "N = mmax - y\n",
    "M = mmin - x\n",
    "print(min(x,y,M,N))\n"
   ]
  },
  {
   "cell_type": "code",
   "execution_count": null,
   "metadata": {},
   "outputs": [],
   "source": []
  }
 ],
 "metadata": {
  "kernelspec": {
   "display_name": "Python 3",
   "language": "python",
   "name": "python3"
  },
  "language_info": {
   "codemirror_mode": {
    "name": "ipython",
    "version": 3
   },
   "file_extension": ".py",
   "mimetype": "text/x-python",
   "name": "python",
   "nbconvert_exporter": "python",
   "pygments_lexer": "ipython3",
   "version": "3.8.3"
  }
 },
 "nbformat": 4,
 "nbformat_minor": 4
}
