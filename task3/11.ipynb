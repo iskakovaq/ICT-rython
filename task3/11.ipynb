{
 "cells": [
  {
   "cell_type": "code",
   "execution_count": 1,
   "metadata": {},
   "outputs": [
    {
     "name": "stdout",
     "output_type": "stream",
     "text": [
      "10\n",
      "nznooeeper\n",
      "1\n",
      "1\n",
      "0\n"
     ]
    }
   ],
   "source": [
    "n=input()\n",
    "s=input()\n",
    "n=len(s)\n",
    "l=0\n",
    "r=0\n",
    "for i in range(n): \n",
    "  if(s[i]=='n'):r+=1\n",
    "  if(s[i]=='z'):l+=1\n",
    "  while(r):\n",
    "    r-=1\n",
    "    print(1)\n",
    "    while(l):\n",
    "      l-=1\n",
    "      print(0)"
   ]
  },
  {
   "cell_type": "code",
   "execution_count": 2,
   "metadata": {},
   "outputs": [
    {
     "name": "stdout",
     "output_type": "stream",
     "text": [
      "4\n",
      "ezor\n",
      "0\n"
     ]
    }
   ],
   "source": [
    "n = int(input())\n",
    "s = input()\n",
    "f = \"\"\n",
    "zero = \"zero\"\n",
    "one = \"one\"\n",
    "\n",
    "\n",
    "def checkZero():\n",
    "    for char in zero:\n",
    "        if char not in s:\n",
    "            return False\n",
    "    return True\n",
    "\n",
    "\n",
    "def checkOne():\n",
    "    for char in one:\n",
    "        if char not in s:\n",
    "            return False\n",
    "    return True\n",
    "\n",
    "\n",
    "def delZero(s):\n",
    "    temp = s\n",
    "    for char in zero:\n",
    "        temp = temp.replace(char, \"\", 1)\n",
    "    return temp\n",
    "\n",
    "\n",
    "def delOne(s):\n",
    "    temp = s\n",
    "    for char in one:\n",
    "        temp = temp.replace(char, \"\", 1)\n",
    "    return temp\n",
    "\n",
    "\n",
    "while checkOne():\n",
    "    f += \"1\"\n",
    "    s = delOne(s)\n",
    "\n",
    "while checkZero():\n",
    "    f += \"0\"\n",
    "    s = delZero(s)\n",
    "print(\" \".join(f))"
   ]
  },
  {
   "cell_type": "code",
   "execution_count": null,
   "metadata": {},
   "outputs": [],
   "source": []
  }
 ],
 "metadata": {
  "kernelspec": {
   "display_name": "Python 3",
   "language": "python",
   "name": "python3"
  },
  "language_info": {
   "codemirror_mode": {
    "name": "ipython",
    "version": 3
   },
   "file_extension": ".py",
   "mimetype": "text/x-python",
   "name": "python",
   "nbconvert_exporter": "python",
   "pygments_lexer": "ipython3",
   "version": "3.8.3"
  }
 },
 "nbformat": 4,
 "nbformat_minor": 4
}
