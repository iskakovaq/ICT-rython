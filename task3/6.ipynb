{
 "cells": [
  {
   "cell_type": "code",
   "execution_count": 1,
   "metadata": {},
   "outputs": [
    {
     "name": "stdout",
     "output_type": "stream",
     "text": [
      "HoUse\n",
      "house\n"
     ]
    }
   ],
   "source": [
    "word = input()\n",
    " \n",
    "lower = 0\n",
    "upper = 0\n",
    " \n",
    "for char in word:\n",
    "    if char.isupper():\n",
    "        upper += 1\n",
    "    else:\n",
    "        lower += 1\n",
    "if upper > lower:\n",
    "    word = word.upper()\n",
    "else:\n",
    "    word = word.lower()\n",
    " \n",
    "print(word)"
   ]
  },
  {
   "cell_type": "code",
   "execution_count": 2,
   "metadata": {},
   "outputs": [
    {
     "name": "stdout",
     "output_type": "stream",
     "text": [
      "Vip\n",
      "vip\n"
     ]
    }
   ],
   "source": [
    "word = input()\n",
    " \n",
    "lower = 0\n",
    "upper = 0\n",
    " \n",
    "for char in word:\n",
    "    if char.isupper():\n",
    "        upper += 1\n",
    "    else:\n",
    "        lower += 1\n",
    "if upper > lower:\n",
    "    word = word.upper()\n",
    "else:\n",
    "    word = word.lower()\n",
    " \n",
    "print(word)\n"
   ]
  },
  {
   "cell_type": "code",
   "execution_count": null,
   "metadata": {},
   "outputs": [],
   "source": []
  }
 ],
 "metadata": {
  "kernelspec": {
   "display_name": "Python 3",
   "language": "python",
   "name": "python3"
  },
  "language_info": {
   "codemirror_mode": {
    "name": "ipython",
    "version": 3
   },
   "file_extension": ".py",
   "mimetype": "text/x-python",
   "name": "python",
   "nbconvert_exporter": "python",
   "pygments_lexer": "ipython3",
   "version": "3.8.3"
  }
 },
 "nbformat": 4,
 "nbformat_minor": 4
}
