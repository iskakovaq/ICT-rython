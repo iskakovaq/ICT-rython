{
 "cells": [
  {
   "cell_type": "code",
   "execution_count": 2,
   "metadata": {},
   "outputs": [
    {
     "name": "stdout",
     "output_type": "stream",
     "text": [
      "3+2+1\n",
      "1+2+3\n"
     ]
    }
   ],
   "source": [
    "user_input = input()\n",
    "if \"+\" not in user_input:\n",
    "    print(user_input)\n",
    "else:\n",
    "    user_sorting= user_input.split(\"+\")\n",
    "    new_arr=[]\n",
    "    for count in range(0,len(user_sorting)):\n",
    "        new_arr.append(user_sorting[count])\n",
    "    new_arr.sort()\n",
    "    a=\"\"\n",
    "    for char in range(0,len(new_arr)):\n",
    "        if char!= len(new_arr)-1:\n",
    "            a+=str(new_arr[char])\n",
    "            a+=\"+\"\n",
    "        else:\n",
    "            a+=str(new_arr[char])\n",
    "    print(a)\n",
    "    "
   ]
  },
  {
   "cell_type": "code",
   "execution_count": null,
   "metadata": {},
   "outputs": [],
   "source": []
  }
 ],
 "metadata": {
  "kernelspec": {
   "display_name": "Python 3",
   "language": "python",
   "name": "python3"
  },
  "language_info": {
   "codemirror_mode": {
    "name": "ipython",
    "version": 3
   },
   "file_extension": ".py",
   "mimetype": "text/x-python",
   "name": "python",
   "nbconvert_exporter": "python",
   "pygments_lexer": "ipython3",
   "version": "3.8.3"
  }
 },
 "nbformat": 4,
 "nbformat_minor": 4
}
