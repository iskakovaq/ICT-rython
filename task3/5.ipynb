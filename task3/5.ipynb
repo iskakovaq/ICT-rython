{
 "cells": [
  {
   "cell_type": "code",
   "execution_count": 1,
   "metadata": {},
   "outputs": [
    {
     "name": "stdout",
     "output_type": "stream",
     "text": [
      "wbujwnmdoql\n",
      "CHAT WITH HER!\n"
     ]
    }
   ],
   "source": [
    "s = input()\n",
    "n = len(set(s))\n",
    "if(n%2==0):\n",
    "    print(\"CHAT WITH HER!\")\n",
    "else:\n",
    "    print(\"IGNORE HIM!\")"
   ]
  },
  {
   "cell_type": "code",
   "execution_count": null,
   "metadata": {},
   "outputs": [],
   "source": []
  }
 ],
 "metadata": {
  "kernelspec": {
   "display_name": "Python 3",
   "language": "python",
   "name": "python3"
  },
  "language_info": {
   "codemirror_mode": {
    "name": "ipython",
    "version": 3
   },
   "file_extension": ".py",
   "mimetype": "text/x-python",
   "name": "python",
   "nbconvert_exporter": "python",
   "pygments_lexer": "ipython3",
   "version": "3.8.3"
  }
 },
 "nbformat": 4,
 "nbformat_minor": 4
}
