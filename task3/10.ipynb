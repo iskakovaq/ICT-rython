{
 "cells": [
  {
   "cell_type": "code",
   "execution_count": 2,
   "metadata": {},
   "outputs": [
    {
     "name": "stdout",
     "output_type": "stream",
     "text": [
      "cAPS\n",
      "Caps\n"
     ]
    }
   ],
   "source": [
    "str = input()\n",
    "def convertOpposite(str): \n",
    "    ln = len(str) \n",
    "    for i in range(ln): \n",
    "        if str[i] >= 'a' and str[i] <= 'z': \n",
    "            str[i] = chr(ord(str[i]) - 32) \n",
    "        elif str[i] >= 'A' and str[i] <= 'Z': \n",
    "            str[i] = chr(ord(str[i]) + 32) \n",
    "if __name__ == \"__main__\": \n",
    "    str = list(str) \n",
    "    convertOpposite(str) \n",
    "    str = ''.join(str) \n",
    "    print(str) "
   ]
  },
  {
   "cell_type": "code",
   "execution_count": null,
   "metadata": {},
   "outputs": [],
   "source": []
  }
 ],
 "metadata": {
  "kernelspec": {
   "display_name": "Python 3",
   "language": "python",
   "name": "python3"
  },
  "language_info": {
   "codemirror_mode": {
    "name": "ipython",
    "version": 3
   },
   "file_extension": ".py",
   "mimetype": "text/x-python",
   "name": "python",
   "nbconvert_exporter": "python",
   "pygments_lexer": "ipython3",
   "version": "3.8.3"
  }
 },
 "nbformat": 4,
 "nbformat_minor": 4
}
