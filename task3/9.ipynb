{
 "cells": [
  {
   "cell_type": "code",
   "execution_count": 15,
   "metadata": {},
   "outputs": [
    {
     "name": "stdout",
     "output_type": "stream",
     "text": [
      "aadadad\n",
      "Anton\n"
     ]
    }
   ],
   "source": [
    "str = input()\n",
    "a = str.count(\"a\")\n",
    "d= str.count(\"d\")\n",
    "if a>d:\n",
    "    print(\"Anton\")\n",
    "if a<d:\n",
    "    print(\"Danik\")\n",
    "if a==d:\n",
    "    print(\"Friendship\")"
   ]
  },
  {
   "cell_type": "code",
   "execution_count": null,
   "metadata": {},
   "outputs": [],
   "source": []
  }
 ],
 "metadata": {
  "kernelspec": {
   "display_name": "Python 3",
   "language": "python",
   "name": "python3"
  },
  "language_info": {
   "codemirror_mode": {
    "name": "ipython",
    "version": 3
   },
   "file_extension": ".py",
   "mimetype": "text/x-python",
   "name": "python",
   "nbconvert_exporter": "python",
   "pygments_lexer": "ipython3",
   "version": "3.8.3"
  }
 },
 "nbformat": 4,
 "nbformat_minor": 4
}
