{
 "cells": [
  {
   "cell_type": "code",
   "execution_count": null,
   "metadata": {},
   "outputs": [],
   "source": [
    "import math\n",
    "t1, g1 = float(input(\"latitude of Point1 is: \")), float(input(\"longtitude of Point1 is: \"))\n",
    "t2, g2 = float(input(\"latitude of Point2 is : \")), float(input(\"longtitude of Point2 is: \"))\n",
    "math.radians(t1)\n",
    "math.radians(t2)\n",
    "math.radians(g1)\n",
    "math.radians(g2)\n",
    "distance = 6371.01 * math.acos(math.sin(t1) + math.cos(t1) * math.cos(t2) * math.cos(g1-g2))\n",
    "print(\"Distance between two points is: {0}\".format(distance))\n"
   ]
  },
  {
   "cell_type": "code",
   "execution_count": null,
   "metadata": {},
   "outputs": [],
   "source": []
  }
 ],
 "metadata": {
  "kernelspec": {
   "display_name": "Python 3",
   "language": "python",
   "name": "python3"
  },
  "language_info": {
   "codemirror_mode": {
    "name": "ipython",
    "version": 3
   },
   "file_extension": ".py",
   "mimetype": "text/x-python",
   "name": "python",
   "nbconvert_exporter": "python",
   "pygments_lexer": "ipython3",
   "version": "3.8.3"
  }
 },
 "nbformat": 4,
 "nbformat_minor": 4
}
